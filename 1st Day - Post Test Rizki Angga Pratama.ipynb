{
  "cells": [
    {
      "cell_type": "code",
      "source": [
        "from enum import Enum\n",
        "from typing import List, Optional, Any\n",
        "from datetime import datetime"
      ],
      "metadata": {
        "id": "DtV9CztEclgF"
      },
      "execution_count": 1,
      "outputs": []
    },
    {
      "cell_type": "code",
      "source": [
        "class SessionInfo:\n",
        "    ip: str\n",
        "    country: str\n",
        "    locale: str\n",
        "    client: int\n",
        "    client_version: str\n",
        "    os: str\n",
        "    os_version: str\n",
        "    device_brand: str\n",
        "    tracker_global_session_id: None\n",
        "    tracker_session_id: None"
      ],
      "metadata": {
        "id": "LVcG6efMcqrp"
      },
      "execution_count": 2,
      "outputs": []
    },
    {
      "cell_type": "code",
      "source": [
        "def __init__(self, ip: str, country: str, locale: str, client: int, client_version: str, os: str, os_version: str, device_brand: str, tracker_global_session_id: None, tracker_session_id: None) -> None:\n",
        "        self.ip = ip\n",
        "        self.country = country\n",
        "        self.locale = locale\n",
        "        self.client = client\n",
        "        self.client_version = client_version\n",
        "        self.os = os\n",
        "        self.os_version = os_version\n",
        "        self.device_brand = device_brand\n",
        "        self.tracker_global_session_id = tracker_global_session_id\n",
        "        self.tracker_session_id = tracker_session_id\n"
      ],
      "metadata": {
        "id": "hb-KvhlhctWi"
      },
      "execution_count": 3,
      "outputs": []
    },
    {
      "cell_type": "code",
      "source": [
        "class Actor:\n",
        "    id: str\n",
        "    role_id: str\n",
        "    role_type: str\n",
        "    session_info: SessionInfo"
      ],
      "metadata": {
        "id": "DQ1TMexIc9-h"
      },
      "execution_count": 4,
      "outputs": []
    },
    {
      "cell_type": "code",
      "source": [
        "def __init__(self, id: str, role_id: str, role_type: str, session_info: SessionInfo) -> None:\n",
        "        self.id = id\n",
        "        self.role_id = role_id\n",
        "        self.role_type = role_type\n",
        "        self.session_info = session_info"
      ],
      "metadata": {
        "id": "cAKnP5vzc-EM"
      },
      "execution_count": 5,
      "outputs": []
    },
    {
      "cell_type": "code",
      "source": [
        "class With:\n",
        "    pass\n",
        "\n",
        "    def __init__(self, ) -> None:\n",
        "        pass\n"
      ],
      "metadata": {
        "id": "MuE3zLv7dGU0"
      },
      "execution_count": 6,
      "outputs": []
    },
    {
      "cell_type": "code",
      "source": [
        "class CustomSEODetail:\n",
        "    canonical_url: None\n",
        "\n",
        "    def __init__(self, canonical_url: None) -> None:\n",
        "        self.canonical_url = canonical_url"
      ],
      "metadata": {
        "id": "0ClmG8vhdGfD"
      },
      "execution_count": 7,
      "outputs": []
    },
    {
      "cell_type": "code",
      "source": [
        "class Allow(Enum):\n",
        "    ADMIN = \"ADMIN\"\n",
        "    OWN = \"OWN\""
      ],
      "metadata": {
        "id": "qWJaEgAVdGl3"
      },
      "execution_count": 8,
      "outputs": []
    },
    {
      "cell_type": "code",
      "source": [
        "class Privacy:\n",
        "    allow: List[Allow]\n",
        "\n",
        "    def __init__(self, allow: List[Allow]) -> None:\n",
        "        self.allow = allow"
      ],
      "metadata": {
        "id": "95Ancd_tdcQ4"
      },
      "execution_count": 9,
      "outputs": []
    },
    {
      "cell_type": "code",
      "source": [
        "class Setting:\n",
        "    key: str\n",
        "    value: str\n",
        "\n",
        "    def __init__(self, key: str, value: str) -> None:\n",
        "        self.key = key\n",
        "        self.value = value"
      ],
      "metadata": {
        "id": "8tRHC-IKdcTI"
      },
      "execution_count": 10,
      "outputs": []
    },
    {
      "cell_type": "code",
      "source": [
        "class TypeEnum(Enum):\n",
        "    HTML = \"html\"\n",
        "    IMAGE = \"image\"\n",
        "    TEXT = \"text\""
      ],
      "metadata": {
        "id": "Z1l7DTeNdcVX"
      },
      "execution_count": 11,
      "outputs": []
    },
    {
      "cell_type": "code",
      "source": [
        "class TypeOptions:\n",
        "    text_type: Optional[str]\n",
        "    rich_text_type: Optional[TypeEnum]\n",
        "    relation_type: Optional[str]\n",
        "\n",
        "    def __init__(self, text_type: Optional[str], rich_text_type: Optional[TypeEnum], relation_type: Optional[str]) -> None:\n",
        "        self.text_type = text_type\n",
        "        self.rich_text_type = rich_text_type\n",
        "        self.relation_type = relation_type"
      ],
      "metadata": {
        "id": "IfsQfSk8dcYs"
      },
      "execution_count": 12,
      "outputs": []
    },
    {
      "cell_type": "code",
      "source": [
        "class Validator:\n",
        "    value: str\n",
        "    validation: str\n",
        "\n",
        "    def __init__(self, value: str, validation: str) -> None:\n",
        "        self.value = value\n",
        "        self.validation = validation"
      ],
      "metadata": {
        "id": "DopO4fxHd9G9"
      },
      "execution_count": 13,
      "outputs": []
    },
    {
      "cell_type": "code",
      "source": [
        "class Schema:\n",
        "    key: str\n",
        "    name: str\n",
        "    type: str\n",
        "    required: Optional[bool]\n",
        "    settings: List[Setting]\n",
        "    validators: Optional[List[Validator]]\n",
        "    description: Optional[str]\n",
        "    read_privacy: Privacy\n",
        "    type_options: Optional[TypeOptions]\n",
        "    write_privacy: Privacy"
      ],
      "metadata": {
        "id": "TprIHhRHd9J1"
      },
      "execution_count": 14,
      "outputs": []
    },
    {
      "cell_type": "code",
      "source": [
        "def __init__(self, key: str, name: str, type: str, required: Optional[bool], settings: List[Setting], validators: Optional[List[Validator]], description: Optional[str], read_privacy: Privacy, type_options: Optional[TypeOptions], write_privacy: Privacy) -> None:\n",
        "        self.key = key\n",
        "        self.name = name\n",
        "        self.type = type\n",
        "        self.required = required\n",
        "        self.settings = settings\n",
        "        self.validators = validators\n",
        "        self.description = description\n",
        "        self.read_privacy = read_privacy\n",
        "        self.type_options = type_options\n",
        "        self.write_privacy = write_privacy"
      ],
      "metadata": {
        "id": "zAV3GWUdd9TL"
      },
      "execution_count": 15,
      "outputs": []
    },
    {
      "cell_type": "code",
      "source": [
        "class Field:\n",
        "    key: str\n",
        "    value: str\n",
        "    schema: Schema\n",
        "\n",
        "    def __init__(self, key: str, value: str, schema: Schema) -> None:\n",
        "        self.key = key\n",
        "        self.value = value\n",
        "        self.schema = schema"
      ],
      "metadata": {
        "id": "O9YSXIGDfAye"
      },
      "execution_count": 16,
      "outputs": []
    },
    {
      "cell_type": "code",
      "source": [
        "class SearchField(Enum):\n",
        "    CONTENT = \"content\"\n",
        "    PREVIEW_IMAGE_ID = \"previewImageId\"\n",
        "    TITLE = \"title\""
      ],
      "metadata": {
        "id": "KoZLUifVfA0-"
      },
      "execution_count": 17,
      "outputs": []
    },
    {
      "cell_type": "code",
      "source": [
        "class MappingField:\n",
        "    key: SearchField\n",
        "    value: str\n",
        "    type: TypeEnum\n",
        "\n",
        "    def __init__(self, key: SearchField, value: str, type: TypeEnum) -> None:\n",
        "        self.key = key\n",
        "        self.value = value\n",
        "        self.type = type\n"
      ],
      "metadata": {
        "id": "aHF-PaHBfA3f"
      },
      "execution_count": 18,
      "outputs": []
    },
    {
      "cell_type": "code",
      "source": [
        "class SEODetail:\n",
        "    title: str\n",
        "\n",
        "    def __init__(self, title: str) -> None:\n",
        "        self.title = title"
      ],
      "metadata": {
        "id": "JX9oyKJSfA5_"
      },
      "execution_count": 19,
      "outputs": []
    },
    {
      "cell_type": "code",
      "source": [
        "\n",
        "class Object:\n",
        "    id: str\n",
        "    network_id: str\n",
        "    template_id: None\n",
        "    external_id: None\n",
        "    space_id: str\n",
        "    post_type_id: str\n",
        "    created_at: datetime\n",
        "    updated_at: datetime\n",
        "    published_at: datetime\n",
        "    last_activity_at: None\n",
        "    last_activity: None\n",
        "    status: str\n",
        "    created_by_id: str\n",
        "    owner_id: str\n",
        "    is_anonymous: bool\n",
        "    locked: bool\n",
        "    mentioned_members: List[Any]\n",
        "    embed_ids: List[Any]\n",
        "    image_ids: List[str]\n",
        "    pinned_into: List[Any]\n",
        "    replied_to_id: Optional[str]\n",
        "    replied_to_ids: List[str]\n",
        "    replies_count: int\n",
        "    total_replies_count: int\n",
        "    seo_detail: SEODetail\n",
        "    custom_seo_detail: CustomSEODetail\n",
        "    popularity: int\n",
        "    top_repliers: List[Any]\n",
        "    title: str\n",
        "    description: str\n",
        "    thumbnail_id: str\n",
        "    slug: str\n",
        "    key: str\n",
        "    short_content: Optional[str]\n",
        "    language: str\n",
        "    has_more_content: bool\n",
        "    is_reply: bool\n",
        "    mapping_fields: List[MappingField]\n",
        "    fields: List[Field]\n",
        "    primary_reaction_type: str\n",
        "    positive_reactions_count: int\n",
        "    negative_reactions_count: int\n",
        "    reactions_count: int\n",
        "    single_choice_reactions: List[Any]\n",
        "    is_hidden: bool\n",
        "    positive_reactions: None\n",
        "    negative_reactions: None\n",
        "    allowed_emojis: None\n",
        "    forbidden_emojis: None\n",
        "    tag_ids: List[str]\n",
        "    attachment_ids: List[Any]\n",
        "    search_fields: List[SearchField]\n",
        "    relative_url: str\n",
        "    url: str\n"
      ],
      "metadata": {
        "id": "g9JVdsdLfA8K"
      },
      "execution_count": 20,
      "outputs": []
    },
    {
      "cell_type": "code",
      "source": [
        "def __init__(self, id: str, network_id: str, template_id: None, external_id: None, space_id: str, post_type_id: str, created_at: datetime, updated_at: datetime, published_at: datetime, last_activity_at: None, last_activity: None, status: str, created_by_id: str, owner_id: str, is_anonymous: bool, locked: bool, mentioned_members: List[Any], embed_ids: List[Any], image_ids: List[str], pinned_into: List[Any], replied_to_id: Optional[str], replied_to_ids: List[str], replies_count: int, total_replies_count: int, seo_detail: SEODetail, custom_seo_detail: CustomSEODetail, popularity: int, top_repliers: List[Any], title: str, description: str, thumbnail_id: str, slug: str, key: str, short_content: Optional[str], language: str, has_more_content: bool, is_reply: bool, mapping_fields: List[MappingField], fields: List[Field], primary_reaction_type: str, positive_reactions_count: int, negative_reactions_count: int, reactions_count: int, single_choice_reactions: List[Any], is_hidden: bool, positive_reactions: None, negative_reactions: None, allowed_emojis: None, forbidden_emojis: None, tag_ids: List[str], attachment_ids: List[Any], search_fields: List[SearchField], relative_url: str, url: str) -> None:\n",
        "        self.id = id\n",
        "        self.network_id = network_id\n",
        "        self.template_id = template_id\n",
        "        self.external_id = external_id\n",
        "        self.space_id = space_id\n",
        "        self.post_type_id = post_type_id\n",
        "        self.created_at = created_at\n",
        "        self.updated_at = updated_at\n",
        "        self.published_at = published_at\n",
        "        self.last_activity_at = last_activity_at\n",
        "        self.last_activity = last_activity\n",
        "        self.status = status\n",
        "        self.created_by_id = created_by_id\n",
        "        self.owner_id = owner_id\n",
        "        self.is_anonymous = is_anonymous\n",
        "        self.locked = locked\n",
        "        self.mentioned_members = mentioned_members\n",
        "        self.embed_ids = embed_ids\n",
        "        self.image_ids = image_ids\n",
        "        self.pinned_into = pinned_into\n",
        "        self.replied_to_id = replied_to_id\n",
        "        self.replied_to_ids = replied_to_ids\n",
        "        self.replies_count = replies_count\n",
        "        self.total_replies_count = total_replies_count\n",
        "        self.seo_detail = seo_detail\n",
        "        self.custom_seo_detail = custom_seo_detail\n",
        "        self.popularity = popularity\n",
        "        self.top_repliers = top_repliers\n",
        "        self.title = title\n",
        "        self.description = description\n",
        "        self.thumbnail_id = thumbnail_id\n",
        "        self.slug = slug\n",
        "        self.key = key\n",
        "        self.short_content = short_content\n",
        "        self.language = language\n",
        "        self.has_more_content = has_more_content\n",
        "        self.is_reply = is_reply\n",
        "        self.mapping_fields = mapping_fields\n",
        "        self.fields = fields\n",
        "        self.primary_reaction_type = primary_reaction_type\n",
        "        self.positive_reactions_count = positive_reactions_count\n",
        "        self.negative_reactions_count = negative_reactions_count\n",
        "        self.reactions_count = reactions_count\n",
        "        self.single_choice_reactions = single_choice_reactions\n",
        "        self.is_hidden = is_hidden\n",
        "        self.positive_reactions = positive_reactions\n",
        "        self.negative_reactions = negative_reactions\n",
        "        self.allowed_emojis = allowed_emojis\n",
        "        self.forbidden_emojis = forbidden_emojis\n",
        "        self.tag_ids = tag_ids\n",
        "        self.attachment_ids = attachment_ids\n",
        "        self.search_fields = search_fields\n",
        "        self.relative_url = relative_url\n",
        "        self.url = url\n"
      ],
      "metadata": {
        "id": "XUPsjidZfA-c"
      },
      "execution_count": 21,
      "outputs": []
    },
    {
      "cell_type": "code",
      "source": [
        "class Target:\n",
        "    organization_id: str\n",
        "    network_id: str\n",
        "    network_domain: str\n",
        "    collection_id: str\n",
        "    post_type_id: str\n",
        "    space_id: str\n",
        "    member_id: str\n",
        "    space_type: str\n",
        "    post_id: Optional[str]"
      ],
      "metadata": {
        "id": "GY5f9xwifBAz"
      },
      "execution_count": 22,
      "outputs": []
    },
    {
      "cell_type": "code",
      "source": [
        " def __init__(self, organization_id: str, network_id: str, network_domain: str, collection_id: str, post_type_id: str, space_id: str, member_id: str, space_type: str, post_id: Optional[str]) -> None:\n",
        "        self.organization_id = organization_id\n",
        "        self.network_id = network_id\n",
        "        self.network_domain = network_domain\n",
        "        self.collection_id = collection_id\n",
        "        self.post_type_id = post_type_id\n",
        "        self.space_id = space_id\n",
        "        self.member_id = member_id\n",
        "        self.space_type = space_type\n",
        "        self.post_id = post_id"
      ],
      "metadata": {
        "id": "_fKIr5NofBDh"
      },
      "execution_count": 23,
      "outputs": []
    },
    {
      "cell_type": "code",
      "source": [
        "class Data:\n",
        "    time: datetime\n",
        "    verb: str\n",
        "    verb_action: str\n",
        "    actor: Actor\n",
        "    object: Object\n",
        "    data_with: With\n",
        "    target: Target\n",
        "    id: str\n",
        "    name: str\n",
        "    noun: str\n",
        "    short_description: str"
      ],
      "metadata": {
        "id": "2cU_xUH4fiyQ"
      },
      "execution_count": 24,
      "outputs": []
    },
    {
      "cell_type": "code",
      "source": [
        " def __init__(self, time: datetime, verb: str, verb_action: str, actor: Actor, object: Object, data_with: With, target: Target, id: str, name: str, noun: str, short_description: str) -> None:\n",
        "        self.time = time\n",
        "        self.verb = verb\n",
        "        self.verb_action = verb_action\n",
        "        self.actor = actor\n",
        "        self.object = object\n",
        "        self.data_with = data_with\n",
        "        self.target = target\n",
        "        self.id = id\n",
        "        self.name = name\n",
        "        self.noun = noun\n",
        "        self.short_description = short_description"
      ],
      "metadata": {
        "id": "xPVIlkYafi01"
      },
      "execution_count": 25,
      "outputs": []
    },
    {
      "cell_type": "code",
      "source": [
        "class Welcome1Element:\n",
        "    id: int\n",
        "    network_id: str\n",
        "    context: str\n",
        "    entity_id: str\n",
        "    data: Data\n",
        "    data_name: str\n",
        "    data_noun: str\n",
        "    data_short_description: str\n",
        "    data_time: datetime\n",
        "    current_setting: List[Any]\n",
        "    created_at: datetime\n",
        "    updated_at: datetime"
      ],
      "metadata": {
        "id": "_7_DreiYfnoJ"
      },
      "execution_count": 26,
      "outputs": []
    },
    {
      "cell_type": "code",
      "source": [
        "\n",
        "    def __init__(self, id: int, network_id: str, context: str, entity_id: str, data: Data, data_name: str, data_noun: str, data_short_description: str, data_time: datetime, current_setting: List[Any], created_at: datetime, updated_at: datetime) -> None:\n",
        "        self.id = id\n",
        "        self.network_id = network_id\n",
        "        self.context = context\n",
        "        self.entity_id = entity_id\n",
        "        self.data = data\n",
        "        self.data_name = data_name\n",
        "        self.data_noun = data_noun\n",
        "        self.data_short_description = data_short_description\n",
        "        self.data_time = data_time\n",
        "        self.current_setting = current_setting\n",
        "        self.created_at = created_at\n",
        "        self.updated_at = updated_at\n"
      ],
      "metadata": {
        "id": "YzZKXD5Efnq0"
      },
      "execution_count": 27,
      "outputs": []
    }
  ],
  "metadata": {
    "colab": {
      "name": "Welcome To Colaboratory",
      "toc_visible": true,
      "provenance": []
    },
    "kernelspec": {
      "display_name": "Python 3",
      "name": "python3"
    }
  },
  "nbformat": 4,
  "nbformat_minor": 0
}